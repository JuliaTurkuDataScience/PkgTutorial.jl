{
  "cells": [
    {
      "cell_type": "markdown",
      "metadata": {},
      "source": [
        "# Julia Package Development Tutorial\n",
        "After this presentation, you will know how to:\n",
        "1. initiate a package and connect it to GitHub\n",
        "2. define, test and document functions\n",
        "3. add dependencies and increase complexity\n",
        "4. deploy documentation online"
      ]
    },
    {
      "cell_type": "markdown",
      "metadata": {},
      "source": [
        "---\n",
        "\n",
        "## Initiate a package\n",
        "\n",
        "It might be time-consuming to build your own architecture from scratch, but thanks to PkgTemplates.jl this procedure is automatic. Also, it is good practice to generate the draft package in an empty directory and then you can import the content that you've already written.\n",
        "\n",
        "There is a bunch of additional plugins and features that you can insert in your package draft, such as CI and documentation, but I suggest that you don't overdo with them, because they make it more difficult to find your way among the many generated files. More often than not I just create a basic template and then add more features manually."
      ]
    },
    {
      "cell_type": "code",
      "execution_count": 1,
      "metadata": {},
      "outputs": [
        {
          "name": "stderr",
          "output_type": "stream",
          "text": [
            "┌ Info: Running prehooks\n",
            "└ @ PkgTemplates /Users/giuliobene3000/.julia/packages/PkgTemplates/NibYy/src/template.jl:130\n",
            "┌ Info: Running hooks\n",
            "└ @ PkgTemplates /Users/giuliobene3000/.julia/packages/PkgTemplates/NibYy/src/template.jl:130\n",
            "\u001b[32m\u001b[1m  Activating\u001b[22m\u001b[39m project at `~/Desktop/Projects/JuliaProjects/Presentation.jl/MyPkg`\n",
            "\u001b[32m\u001b[1m    Updating\u001b[22m\u001b[39m registry at `~/.julia/registries/General.toml`\n",
            "┌ Warning: The active manifest file at `/Users/giuliobene3000/Desktop/Projects/JuliaProjects/Presentation.jl/MyPkg/Manifest.toml` has an old format that is being maintained.\n",
            "│ To update to the new format run `Pkg.upgrade_manifest()` which will upgrade the format without re-resolving.\n",
            "└ @ Pkg.Types /Users/julia/buildbot/worker/package_macos64/build/usr/share/julia/stdlib/v1.7/Pkg/src/manifest.jl:287\n",
            "\u001b[32m\u001b[1m  No Changes\u001b[22m\u001b[39m to `~/Desktop/Projects/JuliaProjects/Presentation.jl/MyPkg/Project.toml`\n",
            "\u001b[32m\u001b[1m  No Changes\u001b[22m\u001b[39m to `~/Desktop/Projects/JuliaProjects/Presentation.jl/MyPkg/Manifest.toml`\n",
            "\u001b[32m\u001b[1mPrecompiling\u001b[22m\u001b[39m project...\n",
            "\u001b[32m  ✓ \u001b[39mMyPkg\n",
            "  1 dependency successfully precompiled in 2 seconds\n",
            "\u001b[32m\u001b[1m  Activating\u001b[22m\u001b[39m project at `~/.julia/environments/v1.7`\n",
            "\u001b[32m\u001b[1m  Activating\u001b[22m\u001b[39m new project at `~/Desktop/Projects/JuliaProjects/Presentation.jl/MyPkg/docs`\n",
            "\u001b[32m\u001b[1m   Resolving\u001b[22m\u001b[39m package versions...\n",
            "\u001b[32m\u001b[1m    Updating\u001b[22m\u001b[39m `~/Desktop/Projects/JuliaProjects/Presentation.jl/MyPkg/docs/Project.toml`\n",
            " \u001b[90m [e30172f5] \u001b[39m\u001b[92m+ Documenter v0.27.15\u001b[39m\n",
            "\u001b[32m\u001b[1m    Updating\u001b[22m\u001b[39m `~/Desktop/Projects/JuliaProjects/Presentation.jl/MyPkg/docs/Manifest.toml`\n",
            " \u001b[90m [a4c015fc] \u001b[39m\u001b[92m+ ANSIColoredPrinters v0.0.1\u001b[39m\n",
            " \u001b[90m [ffbed154] \u001b[39m\u001b[92m+ DocStringExtensions v0.8.6\u001b[39m\n",
            " \u001b[90m [e30172f5] \u001b[39m\u001b[92m+ Documenter v0.27.15\u001b[39m\n",
            " \u001b[90m [b5f81e59] \u001b[39m\u001b[92m+ IOCapture v0.2.2\u001b[39m\n",
            " \u001b[90m [682c06a0] \u001b[39m\u001b[92m+ JSON v0.21.3\u001b[39m\n",
            " \u001b[90m [69de0a69] \u001b[39m\u001b[92m+ Parsers v2.2.4\u001b[39m\n",
            " \u001b[90m [2a0f44e3] \u001b[39m\u001b[92m+ Base64\u001b[39m\n",
            " \u001b[90m [ade2ca70] \u001b[39m\u001b[92m+ Dates\u001b[39m\n",
            " \u001b[90m [b77e0a4c] \u001b[39m\u001b[92m+ InteractiveUtils\u001b[39m\n",
            " \u001b[90m [76f85450] \u001b[39m\u001b[92m+ LibGit2\u001b[39m\n",
            " \u001b[90m [56ddb016] \u001b[39m\u001b[92m+ Logging\u001b[39m\n",
            " \u001b[90m [d6f4376e] \u001b[39m\u001b[92m+ Markdown\u001b[39m\n",
            " \u001b[90m [a63ad114] \u001b[39m\u001b[92m+ Mmap\u001b[39m\n",
            " \u001b[90m [ca575930] \u001b[39m\u001b[92m+ NetworkOptions\u001b[39m\n",
            " \u001b[90m [de0858da] \u001b[39m\u001b[92m+ Printf\u001b[39m\n",
            " \u001b[90m [3fa0cd96] \u001b[39m\u001b[92m+ REPL\u001b[39m\n",
            " \u001b[90m [9a3f8284] \u001b[39m\u001b[92m+ Random\u001b[39m\n",
            " \u001b[90m [ea8e919c] \u001b[39m\u001b[92m+ SHA\u001b[39m\n",
            " \u001b[90m [9e88b42a] \u001b[39m\u001b[92m+ Serialization\u001b[39m\n",
            " \u001b[90m [6462fe0b] \u001b[39m\u001b[92m+ Sockets\u001b[39m\n",
            " \u001b[90m [8dfed614] \u001b[39m\u001b[92m+ Test\u001b[39m\n",
            " \u001b[90m [4ec0a83e] \u001b[39m\u001b[92m+ Unicode\u001b[39m\n",
            "\u001b[32m\u001b[1mPrecompiling\u001b[22m\u001b[39m project...\n",
            "\u001b[32m  ✓ \u001b[39m\u001b[90mIOCapture\u001b[39m\n",
            "\u001b[32m  ✓ \u001b[39mDocumenter\n",
            "  2 dependencies successfully precompiled in 7 seconds (4 already precompiled)\n",
            "\u001b[32m\u001b[1m   Resolving\u001b[22m\u001b[39m package versions...\n",
            "\u001b[32m\u001b[1m    Updating\u001b[22m\u001b[39m `~/Desktop/Projects/JuliaProjects/Presentation.jl/MyPkg/docs/Project.toml`\n",
            " \u001b[90m [ff3bb696] \u001b[39m\u001b[92m+ MyPkg v0.1.0 `..`\u001b[39m\n",
            "\u001b[32m\u001b[1m    Updating\u001b[22m\u001b[39m `~/Desktop/Projects/JuliaProjects/Presentation.jl/MyPkg/docs/Manifest.toml`\n",
            " \u001b[90m [ff3bb696] \u001b[39m\u001b[92m+ MyPkg v0.1.0 `..`\u001b[39m\n",
            "\u001b[32m\u001b[1m  Activating\u001b[22m\u001b[39m project at `~/.julia/environments/v1.7`\n",
            "┌ Info: Running posthooks\n",
            "└ @ PkgTemplates /Users/giuliobene3000/.julia/packages/PkgTemplates/NibYy/src/template.jl:130\n",
            "┌ Info: New package is at /Users/giuliobene3000/Desktop/Projects/JuliaProjects/Presentation.jl/MyPkg\n",
            "└ @ PkgTemplates /Users/giuliobene3000/.julia/packages/PkgTemplates/NibYy/src/template.jl:140\n"
          ]
        }
      ],
      "source": [
        "# This is the Julia REPL\n",
        "\n",
        "using PkgTemplates\n",
        "\n",
        "t = Template(;\n",
        "        dir = @__DIR__,\n",
        "        plugins = [\n",
        "                License(; name = \"MIT\"),\n",
        "                Codecov(),\n",
        "                GitHubActions(),\n",
        "                Documenter{GitHubActions}(),\n",
        "                ],\n",
        "        )\n",
        "\n",
        "t(\"MyPkg\")"
      ]
    },
    {
      "cell_type": "markdown",
      "metadata": {},
      "source": [
        "Create a new repository on GitHub and call it with the same name as your local project. The remote should already be set up, so you can make the connection by pushing the local to the master branch."
      ]
    },
    {
      "cell_type": "code",
      "execution_count": null,
      "metadata": {},
      "outputs": [],
      "source": [
        "# This is the command line\n",
        "\n",
        "# push local to master\n",
        "git push origin master"
      ]
    },
    {
      "cell_type": "markdown",
      "metadata": {},
      "source": [
        "## Define, test and document functions\n",
        "Navigate to `src/MyPkg.jl` and look into it. This file is the module, where you can define the functions that will be exported with your package. The triple quotes upstream each function are called docstrings and their content will appear in the documentation."
      ]
    },
    {
      "cell_type": "code",
      "execution_count": null,
      "metadata": {},
      "outputs": [],
      "source": [
        "# This is src/MyPkg.jl\n",
        "\n",
        "module MyPkg\n",
        "\n",
        "export my_sum, my_product\n",
        "\n",
        "\"\"\"\n",
        "    my_sum(a::Int64, b::Int64)\n",
        "\n",
        "Adds two integers together.\n",
        "\"\"\"\n",
        "my_sum(a::Int64, b::Int64) = a + b\n",
        "\n",
        "\"\"\"\n",
        "    my_product(a::Float64, b::Float64)\n",
        "\n",
        "Multiply two floats together.\n",
        "\"\"\"\n",
        "my_product(a::Float64, b::Float64) = a * b\n",
        "\n",
        "end"
      ]
    },
    {
      "cell_type": "markdown",
      "metadata": {},
      "source": [
        "Tests can be found in the test directory. The package template has already prepared the draft in runtests.jl that you can fill with @test macros, which check if the passed conditionals are true or false."
      ]
    },
    {
      "cell_type": "code",
      "execution_count": null,
      "metadata": {},
      "outputs": [],
      "source": [
        "# This is test/runtests.jl\n",
        "\n",
        "using Test\n",
        "using MyPkg\n",
        "\n",
        "@testset \"MyPkg.jl\" begin\n",
        "\n",
        "    a = my_sum(2, 2)\n",
        "    b = my_product(2.0, 2.0)\n",
        "\n",
        "    @test a == b\n",
        "\n",
        "end"
      ]
    },
    {
      "cell_type": "markdown",
      "metadata": {},
      "source": [
        "### How to write meaningful tests?\n",
        "Different levels of complexity for your tests:\n",
        "* *definition level*: I'm happy as long as this variable is defined\n",
        "* *equality level*: I can expect A to be the exact copy of B\n",
        "* *partial-equality level*: I can expect A to be more or less equal to B\n",
        "* *absolute-difference level*: results are highly variable (+/-, order of magnitude), but their absolute difference is always less than some value"
      ]
    },
    {
      "cell_type": "code",
      "execution_count": null,
      "metadata": {},
      "outputs": [],
      "source": [
        "# This is MicrobiomeAnalysis/test/test_transform.jl\n",
        "\n",
        "# is some variable defined?\n",
        "@test @isdefined Xapp\n",
        "\n",
        "# is each element in A equal to each element in B?\n",
        "@test z_assay1 == z_assay2\n",
        "\n",
        "# are the rounded means equal to each other up to a tolerance of 15 digits?\n",
        "@test round(mean(relabund_assay), digits = 15) == round(mean(assay(se, \"relabund_assay\")), digits = 15)\n",
        "\n",
        "# is the absolute value of the difference between the means less than the tolerance?\n",
        "@test abs(mean(clr_assay1) - mean(clr_assay2)) < 10e-16"
      ]
    },
    {
      "cell_type": "markdown",
      "metadata": {},
      "source": [
        "## Add dependencies and increase complexity\n",
        "Imagine that one of your functions depends on some other package. You'll have to import it with `add MyDependency` and use it from within the module."
      ]
    },
    {
      "cell_type": "code",
      "execution_count": null,
      "metadata": {},
      "outputs": [],
      "source": [
        "# This is added to src/MyPkg.jl\n",
        "\n",
        "using Statistics: mean\n",
        "# alternatively (with some differences)\n",
        "# import Statistics: mean\n",
        "\n",
        "export my_mean\n",
        "\n",
        "\"\"\"\n",
        "    my_mean(a::Real, b::Real)\n",
        "\n",
        "Takes a strange mean.\n",
        "\"\"\"\n",
        "my_mean(a::Real, b::Real) = mean(a, b) + 1"
      ]
    },
    {
      "cell_type": "markdown",
      "metadata": {},
      "source": [
        "All of the above works as a good temporary solution, as long as you don't need many external utilites or multiple source scripts. In such case, you might want to move your functions to separate scripts and `include` them in the module, which will trigger their execution."
      ]
    },
    {
      "cell_type": "code",
      "execution_count": null,
      "metadata": {},
      "outputs": [],
      "source": [
        "# This is src/MyPkg.jl\n",
        "\n",
        "module MyPkg\n",
        "\n",
        "using Statistics: mean\n",
        "export my_sum, my_product, my_mean\n",
        "\n",
        "include(\"funcs.jl\")\n",
        "\n",
        "end"
      ]
    },
    {
      "cell_type": "code",
      "execution_count": null,
      "metadata": {},
      "outputs": [],
      "source": [
        "# This is src/funcs.jl\n",
        "\n",
        "\"\"\"\n",
        "    my_sum(a::Int64, b::Int64)\n",
        "\n",
        "Adds two integers together.\n",
        "\"\"\"\n",
        "my_sum(a::Int64, b::Int64) = a + b\n",
        "\n",
        "\"\"\"\n",
        "    my_product(a::Float64, b::Float64)\n",
        "\n",
        "Multiply two floats together.\n",
        "\"\"\"\n",
        "my_product(a::Float64, b::Float64) = a * b\n",
        "\n",
        "\"\"\"\n",
        "    my_mean(a::Real, b::Real)\n",
        "\n",
        "Takes a strange mean.\n",
        "\"\"\"\n",
        "my_mean(a::Real, b::Real) = mean(a, b) + 1"
      ]
    },
    {
      "cell_type": "markdown",
      "metadata": {},
      "source": [
        "## Deploy documentation online\n",
        "Commit the changes to master. After `.github/workflows/CI.yml` has run, a new branch \"gh-pages\" should be automatically created. You might have to go the repo settings and manually set gh-pages as the default branch for deployment. From now on, every time you push a new tag, the current version of the docs will be rendered at \"https://MyOrg.github.io/MyPkg.jl/stable/\", whereas \"https://MyOrg.github.io/MyPkg.jl/dev/\" will always show the development version (latest) no matter what."
      ]
    },
    {
      "cell_type": "code",
      "execution_count": null,
      "metadata": {},
      "outputs": [],
      "source": [
        "# This is the command line\n",
        "\n",
        "# commit changes locally\n",
        "git commit -m \"Add new features\"\n",
        "# create a new tag locally\n",
        "git tag -a v0.1.0 -m \"Release version 0.1.0\"\n",
        "# push changes to origin/master\n",
        "git push origin master\n",
        "# push tags to origin\n",
        "git push --tag"
      ]
    }
  ],
  "metadata": {
    "kernelspec": {
      "display_name": "Julia 1.7.2",
      "language": "julia",
      "name": "julia-1.7"
    },
    "language_info": {
      "file_extension": ".jl",
      "mimetype": "application/julia",
      "name": "julia",
      "version": "1.7.2"
    }
  },
  "nbformat": 4,
  "nbformat_minor": 4
}
