{
  "cells": [
    {
      "cell_type": "markdown",
      "metadata": {},
      "source": [
        "# Julia Package Development Tutorial\n",
        "After this presentation, you will know how to:\n",
        "1. initiate a package and connect it to GitHub\n",
        "2. define, test and document functions\n",
        "3. add dependencies and increase complexity\n",
        "4. deploy documentation online"
      ]
    },
    {
      "cell_type": "markdown",
      "metadata": {},
      "source": [
        "---\n",
        "\n",
        "## Initiate a package\n",
        "\n",
        "It might be time-consuming to build your own architecture from scratch, but thanks to PkgTemplates.jl this procedure is automatic. Also, it is good practice to generate the draft package in an empty directory and then you can import the content that you've already written.\n",
        "\n",
        "There is a bunch of additional plugins and features that you can insert in your package draft, such as CI and documentation, but I suggest that you don't overdo with them, because they make it more difficult to find your way among the many generated files. More often than not I just create a basic template and then add more features manually."
      ]
    },
    {
      "cell_type": "code",
      "execution_count": null,
      "metadata": {},
      "outputs": [],
      "source": [
        "# This is the Julia REPL\n",
        "\n",
        "using PkgTemplates\n",
        "\n",
        "t = Template(;\n",
        "        dir = @__DIR__,\n",
        "        plugins = [\n",
        "                License(; name = \"MIT\"),\n",
        "                Codecov(),\n",
        "                GitHubActions(),\n",
        "                Documenter{GitHubActions}(),\n",
        "                ],\n",
        "        )\n",
        "\n",
        "t(\"MyPkg\")"
      ]
    },
    {
      "cell_type": "markdown",
      "metadata": {},
      "source": [
        "Create a new repository on GitHub and call it with the same name as your local project. The remote should already be set up, so you can make the connection by pushing the local to the master branch."
      ]
    },
    {
      "cell_type": "code",
      "execution_count": null,
      "metadata": {},
      "outputs": [],
      "source": [
        "# This is the command line\n",
        "\n",
        "# push local to master\n",
        "git push origin master"
      ]
    },
    {
      "cell_type": "markdown",
      "metadata": {},
      "source": [
        "## Define, test and document functions\n",
        "Navigate to `src/MyPkg.jl` and look into it. This file is the module, where you can define the functions that will be exported with your package. The triple quotes upstream each function are called docstrings and their content will appear in the documentation."
      ]
    },
    {
      "cell_type": "code",
      "execution_count": null,
      "metadata": {},
      "outputs": [],
      "source": [
        "# This is src/MyPkg.jl\n",
        "\n",
        "module MyPkg\n",
        "\n",
        "\"\"\"\n",
        "    my_sum(a::Int64, b::Int64)\n",
        "\n",
        "Adds two integers together.\n",
        "\"\"\"\n",
        "my_sum(a::Int64, b::Int64) = a + b\n",
        "\n",
        "\"\"\"\n",
        "    my_product(a::Float64, b::Float64)\n",
        "\n",
        "Multiply two floats together.\n",
        "\"\"\"\n",
        "my_product(a::Float64, b::Float64) = a * b\n",
        "\n",
        "end"
      ]
    },
    {
      "cell_type": "markdown",
      "metadata": {},
      "source": [
        "Tests can be found in the test directory. The package template has already prepared the draft in runtests.jl that you can fill with @test macros, which check if the passed conditionals are true or false."
      ]
    },
    {
      "cell_type": "code",
      "execution_count": 6,
      "metadata": {},
      "outputs": [
        {
          "name": "stdout",
          "output_type": "stream",
          "text": [
            "\u001b[0m\u001b[1mTest Summary: | \u001b[22m\u001b[32m\u001b[1mPass  \u001b[22m\u001b[39m\u001b[36m\u001b[1mTotal\u001b[22m\u001b[39m\n",
            "MyPkg.jl      | \u001b[32m   1  \u001b[39m\u001b[36m    1\u001b[39m\n"
          ]
        },
        {
          "data": {
            "text/plain": [
              "Test.DefaultTestSet(\"MyPkg.jl\", Any[], 1, false, false)"
            ]
          },
          "execution_count": 6,
          "metadata": {},
          "output_type": "execute_result"
        }
      ],
      "source": [
        "# This is test/runtests.jl\n",
        "\n",
        "using Test\n",
        "using MyPkg\n",
        "\n",
        "@testset \"MyPkg.jl\" begin\n",
        "\n",
        "    a = my_sum(2, 2)\n",
        "    b = my_product(2.0, 2.0)\n",
        "\n",
        "    @test a == b\n",
        "\n",
        "end"
      ]
    },
    {
      "cell_type": "markdown",
      "metadata": {},
      "source": [
        "### How to write meaningful tests?\n",
        "Different levels of complexity for your tests:\n",
        "* *definition level*: I'm happy as long as this variable is defined\n",
        "* *equality level*: I can expect A to be the exact copy of B\n",
        "* *partial-equality level*: I can expect A to be more or less equal to B\n",
        "* *absolute-difference level*: results are highly variable (+/-, order of magnitude), but their absolute difference is always less than some value"
      ]
    },
    {
      "cell_type": "code",
      "execution_count": null,
      "metadata": {},
      "outputs": [],
      "source": [
        "# This is MicrobiomeAnalysis/test/test_transform.jl\n",
        "\n",
        "# is some variable defined?\n",
        "@test @isdefined Xapp\n",
        "\n",
        "# is each element in A equal to each element in B?\n",
        "@test z_assay1 == z_assay2\n",
        "\n",
        "# are the rounded means equal to each other up to a tolerance of 15 digits?\n",
        "@test round(mean(relabund_assay), digits = 15) == round(mean(assay(se, \"relabund_assay\")), digits = 15)\n",
        "\n",
        "# is the absolute value of the difference between the means less than the tolerance?\n",
        "@test abs(mean(clr_assay1) - mean(clr_assay2)) < 10e-16"
      ]
    },
    {
      "cell_type": "markdown",
      "metadata": {},
      "source": [
        "## Add dependencies and increase complexity\n",
        "Imagine that one of your functions depends on some other package. You'll have to import it."
      ]
    },
    {
      "cell_type": "code",
      "execution_count": null,
      "metadata": {},
      "outputs": [],
      "source": [
        "# This is added to src/MyPkg.jl\n",
        "\n",
        "using Statistics: mean\n",
        "# alternatively (with some differences)\n",
        "# import Statistics: mean\n",
        "\n",
        "\"\"\"\n",
        "    my_mean(a::Real, b::Real)\n",
        "\n",
        "Takes a strange mean.\n",
        "\"\"\"\n",
        "my_mean(a::Real, b::Real) = mean(a, b) + 1"
      ]
    },
    {
      "cell_type": "markdown",
      "metadata": {},
      "source": [
        "All of the above works as a good temporary solution, as long as you don't need many external utilites or multiple source scripts. In such case, you might want to move your functions to separate scripts and `include` them in the module, which will trigger their execution."
      ]
    },
    {
      "cell_type": "code",
      "execution_count": null,
      "metadata": {},
      "outputs": [],
      "source": [
        "# This is src/MyPkg.jl\n",
        "\n",
        "module MyPkg\n",
        "\n",
        "using Statistics: mean\n",
        "export my_sum, my_product, my_mean\n",
        "\n",
        "include(\"funcs.jl\")\n",
        "\n",
        "end"
      ]
    },
    {
      "cell_type": "code",
      "execution_count": null,
      "metadata": {},
      "outputs": [],
      "source": [
        "# This is src/funcs.jl\n",
        "\n",
        "\"\"\"\n",
        "    my_sum(a::Int64, b::Int64)\n",
        "\n",
        "Adds two integers together.\n",
        "\"\"\"\n",
        "my_sum(a::Int64, b::Int64) = a + b\n",
        "\n",
        "\"\"\"\n",
        "    my_product(a::Float64, b::Float64)\n",
        "\n",
        "Multiply two floats together.\n",
        "\"\"\"\n",
        "my_product(a::Float64, b::Float64) = a * b\n",
        "\n",
        "\"\"\"\n",
        "    my_mean(a::Real, b::Real)\n",
        "\n",
        "Takes a strange mean.\n",
        "\"\"\"\n",
        "my_mean(a::Real, b::Real) = mean(a, b) + 1"
      ]
    },
    {
      "cell_type": "markdown",
      "metadata": {},
      "source": [
        "## Deploy documentation online\n",
        "Commit the changes to master. After `.github/workflows/CI.yml` has run, a new branch \"gh-pages\" should be automatically created. You might have to go the repo settings and manually set gh-pages as the default branch for deployment. From now on, every time you push a new tag, the current version of the docs will be rendered at \"https://MyOrg.github.io/MyPkg.jl/stable/\", whereas \"https://MyOrg.github.io/MyPkg.jl/dev/\" will always show the development version (latest) no matter what."
      ]
    },
    {
      "cell_type": "code",
      "execution_count": null,
      "metadata": {},
      "outputs": [],
      "source": [
        "# This is the command line\n",
        "\n",
        "# commit changes locally\n",
        "git commit -m \"Add new features\"\n",
        "# create a new tag locally\n",
        "git tag -a v0.1.0 -m \"Release version 0.1.0\"\n",
        "# push changes to origin/master\n",
        "git push origin master\n",
        "# push tags to origin\n",
        "git push --tag"
      ]
    }
  ],
  "metadata": {
    "kernelspec": {
      "display_name": "Julia 1.7.2",
      "language": "julia",
      "name": "julia-1.7"
    },
    "language_info": {
      "file_extension": ".jl",
      "mimetype": "application/julia",
      "name": "julia",
      "version": "1.7.2"
    }
  },
  "nbformat": 4,
  "nbformat_minor": 4
}
